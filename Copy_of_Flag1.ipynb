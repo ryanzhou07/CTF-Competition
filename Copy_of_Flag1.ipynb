{
  "cells": [
    {
      "cell_type": "markdown",
      "metadata": {
        "id": "view-in-github",
        "colab_type": "text"
      },
      "source": [
        "<a href=\"https://colab.research.google.com/github/ryanzhou07/CTF-Competition/blob/main/Copy_of_Flag1.ipynb\" target=\"_parent\"><img src=\"https://colab.research.google.com/assets/colab-badge.svg\" alt=\"Open In Colab\"/></a>"
      ]
    },
    {
      "cell_type": "code",
      "execution_count": 43,
      "metadata": {
        "id": "fnO2BMo74YGe"
      },
      "outputs": [],
      "source": [
        "import pandas as pd\n",
        "import matplotlib.pyplot as plt\n",
        "import seaborn as sns\n",
        "from sklearn.model_selection import train_test_split, cross_val_score\n",
        "from sklearn.linear_model import LinearRegression\n",
        "from sklearn.metrics import mean_squared_error, mean_absolute_error\n",
        "from sklearn.metrics import r2_score\n",
        "import random\n",
        "import numpy as np\n",
        "\n",
        "df = pd.read_csv('df_test.csv')"
      ]
    },
    {
      "cell_type": "code",
      "execution_count": 44,
      "metadata": {
        "id": "x-gR4L6x41ZF",
        "outputId": "ff37b749-dfc7-49ed-fcf2-922f31c86293",
        "colab": {
          "base_uri": "https://localhost:8080/"
        }
      },
      "outputs": [
        {
          "output_type": "stream",
          "name": "stdout",
          "text": [
            "      bedrooms  grade  has_basement  living_in_m2  renovated  nice_view  \\\n",
            "0          2.0    1.0           0.0      76.18046        0.0        0.0   \n",
            "1          3.0    2.0           1.0     210.88981        0.0        0.0   \n",
            "2          2.0    4.0           0.0     262.91549        0.0        0.0   \n",
            "3          3.0    3.0           0.0     159.79316        0.0        0.0   \n",
            "4          2.0    1.0           0.0      92.90300        0.0        0.0   \n",
            "...        ...    ...           ...           ...        ...        ...   \n",
            "6695       3.0    3.0           1.0     188.59309        0.0        0.0   \n",
            "6696       3.0    4.0           0.0     234.11556        0.0        0.0   \n",
            "6697       3.0    2.0           1.0     169.08346        0.0        0.0   \n",
            "6698       1.0    2.0           1.0     155.14801        0.0        0.0   \n",
            "6699       2.0    1.0           0.0     117.05778        0.0        0.0   \n",
            "\n",
            "      perfect_condition  real_bathrooms  has_lavatory  single_floor  \\\n",
            "0                   1.0             1.0           0.0           1.0   \n",
            "1                   0.0             2.0           1.0           1.0   \n",
            "2                   0.0             2.0           1.0           0.0   \n",
            "3                   0.0             1.0           1.0           0.0   \n",
            "4                   0.0             1.0           1.0           1.0   \n",
            "...                 ...             ...           ...           ...   \n",
            "6695                0.0             2.0           1.0           0.0   \n",
            "6696                0.0             2.0           1.0           0.0   \n",
            "6697                0.0             1.0           1.0           1.0   \n",
            "6698                0.0             1.0           1.0           1.0   \n",
            "6699                0.0             1.0           0.0           1.0   \n",
            "\n",
            "      quartile_zone  \n",
            "0               2.0  \n",
            "1               2.0  \n",
            "2               2.0  \n",
            "3               3.0  \n",
            "4               3.0  \n",
            "...             ...  \n",
            "6695            3.0  \n",
            "6696            2.0  \n",
            "6697            1.0  \n",
            "6698            4.0  \n",
            "6699            2.0  \n",
            "\n",
            "[6700 rows x 11 columns]\n"
          ]
        }
      ],
      "source": [
        "X = df.drop(columns=['date', 'price', 'month'])\n",
        "y = df[['price']]\n",
        "\n",
        "for col in X.columns:\n",
        "    X[col] = X[col].astype('float64')\n",
        "\n",
        "print(X)"
      ]
    },
    {
      "cell_type": "code",
      "source": [
        "X_train, X_test, y_train, y_test = train_test_split(X, y)"
      ],
      "metadata": {
        "id": "0Bc5ov5fKH8-"
      },
      "execution_count": null,
      "outputs": []
    },
    {
      "cell_type": "code",
      "source": [
        "# Keep a clean copy of original X\n",
        "X_orig = X.copy()\n",
        "\n",
        "model.fit(X_train, y_train)\n",
        "predictions = model.predict(X_test)\n",
        "\n",
        "r = r2_score(y_test, predictions)\n",
        "\n",
        "# trial change\n",
        "for i in X[['living_in_m2']]:\n",
        "    X[i] = X[i]/10\n",
        "X_train, X_test, y_train, y_test = train_test_split(X, y)\n",
        "\n",
        "model.fit(X_train, y_train)\n",
        "predictions = model.predict(X_test)\n",
        "\n",
        "rChange = r2_score(y_test, predictions)\n",
        "sval = []\n",
        "\n",
        "while r < 0.76:\n",
        "    if r > rChange:\n",
        "        sval = []\n",
        "        # start from original each time → avoids stacking and NaNs\n",
        "        X = X_orig.copy()\n",
        "        for col in X.columns:\n",
        "            s = random.randint(1,10)\n",
        "            sval.append(s)\n",
        "            X[col] = X[col] / s\n",
        "    elif r < rChange:\n",
        "        r = rChange\n",
        "\n",
        "    X_train, X_test, y_train, y_test = train_test_split(X, y)\n",
        "    model.fit(X_train, y_train)\n",
        "    predictions = model.predict(X_test)\n",
        "    rChange = r2_score(y_test, predictions)\n",
        "\n",
        "print(\"Final R²:\", r)\n",
        "print(\"Scales used:\", sval)\n",
        "\n",
        "mae = mean_absolute_error(y_test, predictions)\n",
        "rmse = np.sqrt(mean_squared_error(y_test, predictions))\n",
        "\n",
        "print(f\"MAE: {mae:.2f}\")\n",
        "print(f\"RMSE: {rmse:.2f}\")\n",
        "\n",
        "# Cross-validation R²\n",
        "scores = cross_val_score(LinearRegression(), X, y, cv=5, scoring='r2')\n",
        "print(f\"Cross-validated R²: {scores.mean():.4f} (+/- {scores.std():.4f})\")"
      ],
      "metadata": {
        "id": "ADyWccJLKGXU",
        "colab": {
          "base_uri": "https://localhost:8080/"
        },
        "outputId": "2761bd5c-9e8e-4899-d1e0-b2d6f4349f9c"
      },
      "execution_count": 51,
      "outputs": [
        {
          "output_type": "stream",
          "name": "stdout",
          "text": [
            "Final R²: 0.7708339524486575\n",
            "Scales used: [8, 6, 7, 3, 6, 10, 5, 3, 9, 2, 9]\n",
            "MAE: 76526.08\n",
            "RMSE: 102167.72\n",
            "Cross-validated R²: 0.7410 (+/- 0.0182)\n"
          ]
        }
      ]
    }
  ],
  "metadata": {
    "colab": {
      "provenance": [],
      "include_colab_link": true
    },
    "kernelspec": {
      "display_name": "Python 3",
      "name": "python3"
    },
    "language_info": {
      "name": "python"
    }
  },
  "nbformat": 4,
  "nbformat_minor": 0
}